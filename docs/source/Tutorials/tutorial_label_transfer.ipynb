{
 "cells": [
  {
   "cell_type": "markdown",
   "metadata": {},
   "source": [
    "# Label transfer"
   ]
  },
  {
   "cell_type": "markdown",
   "metadata": {},
   "source": [
    "Here, we show how SuperSCC implements marker-genes-based label transfer."
   ]
  },
  {
   "cell_type": "code",
   "execution_count": 61,
   "metadata": {},
   "outputs": [],
   "source": [
    "import SuperSCC as scc\n",
    "import pandas as pd\n",
    "import scanpy as sc\n",
    "import os\n",
    "from sklearn.metrics import confusion_matrix, cohen_kappa_score, matthews_corrcoef, accuracy_score, f1_score\n",
    "from sklearn.model_selection import train_test_split"
   ]
  },
  {
   "cell_type": "code",
   "execution_count": 37,
   "metadata": {},
   "outputs": [],
   "source": [
    "# read reference data\n",
    "data = pd.read_csv('/mnt/disk5/zhongmin/superscc/师兄整理的肺数据/未去批次效应couns数据/没有去除批次效应_Banovich_Kropski_2020数据.csv', index_col=0)\n",
    "cell_type = pd.read_csv('/home/fengtang/jupyter_notebooks/working_script/evulate_clustering/cell_type_info/finest/Banovich_Kropski_2020_finest_celltype.csv', index_col = 0)"
   ]
  },
  {
   "cell_type": "code",
   "execution_count": null,
   "metadata": {},
   "outputs": [],
   "source": [
    "# split train and test data\n",
    "Xtrain, Xtest, Ytrain, Ytest = train_test_split(data, cell_type, test_size= 0.3)"
   ]
  },
  {
   "cell_type": "code",
   "execution_count": 43,
   "metadata": {},
   "outputs": [],
   "source": [
    "# do log-normalization for training and testing data\n",
    "Xtrain = sc.AnnData(Xtrain.select_dtypes(\"number\"))\n",
    "sc.pp.normalize_total(Xtrain, target_sum = 1e4)\n",
    "sc.pp.log1p(Xtrain)\n",
    "\n",
    "Xtrain_norm = pd.DataFrame(Xtrain.X)\n",
    "Xtrain_norm.columns = Xtrain.var_names\n",
    "Xtrain_norm.index = Xtrain.obs_names\n",
    "Xtrain_norm.loc[:, \"cell_type\"] = Ytrain.cell_type.values\n",
    "\n",
    "\n",
    "Xtest = sc.AnnData(Xtest.select_dtypes(\"number\"))\n",
    "sc.pp.normalize_total(Xtest, target_sum = 1e4)\n",
    "sc.pp.log1p(Xtest)\n",
    "\n",
    "Xtest_norm = pd.DataFrame(Xtest.X)\n",
    "Xtest_norm.columns = Xtest.var_names\n",
    "Xtest_norm.index = Xtest.obs_names\n",
    "Xtest_norm.loc[:, \"cell_type\"] = Ytest.cell_type.values\n"
   ]
  },
  {
   "cell_type": "code",
   "execution_count": null,
   "metadata": {},
   "outputs": [],
   "source": [
    "# find informative features in training data\n",
    "my_logger = scc.log_file(\"logger\", \"a\")\n",
    "info_features = scc.feature_selection(Xtrain_norm.copy(), label_column = \"cell_type\", model = \"svm\",  normalization_method = \"Min-Max\", save = True, logger = my_logger)\n",
    "info_features = [i[0] for i in info_features[\"final_feature_selection_by_ensemble\"]] # use ensemble-selection features"
   ]
  },
  {
   "cell_type": "code",
   "execution_count": 49,
   "metadata": {},
   "outputs": [
    {
     "name": "stdout",
     "output_type": "stream",
     "text": [
      "2025-02-07 15:41:12 start model training\n",
      "2025-02-07 15:41:12 model traning based on svm algorithm\n",
      "2025-02-07 15:41:13 doing Min-Max normalization\n",
      "2025-02-07 15:41:13 doing label encoding\n",
      "2025-02-07 15:41:13 grid search below paramters getting the best model\n",
      "* C: [0.01 0.12 0.23 0.34 0.45 0.56 0.67 0.78 0.89 1.  ]\n",
      "* kernel: ['rbf', 'poly', 'sigmoid', 'linear']\n"
     ]
    },
    {
     "name": "stderr",
     "output_type": "stream",
     "text": [
      "/home/fengtang/anaconda3/envs/SuperSCC/lib/python3.11/site-packages/sklearn/model_selection/_split.py:700: UserWarning: The least populated class in y has only 1 members, which is less than n_splits=5.\n",
      "  warnings.warn(\n"
     ]
    },
    {
     "name": "stdout",
     "output_type": "stream",
     "text": [
      "2025-02-07 15:55:10 finish model training\n"
     ]
    }
   ],
   "source": [
    "# model training on training data\n",
    "model = scc.model_training(Xtrain_norm.copy(), label_column = \"cell_type\", features = info_features, model = \"svm\", normalization_method = \"Min-Max\", save = True, logger = my_logger)"
   ]
  },
  {
   "cell_type": "code",
   "execution_count": null,
   "metadata": {},
   "outputs": [
    {
     "name": "stdout",
     "output_type": "stream",
     "text": [
      "2025-02-07 16:06:59 start label prediction based on svm_training_model_2025-02-07 15:55:10.pkl model\n",
      "2025-02-07 16:07:28 finish label prediction based on svm_training_model_2025-02-07 15:55:10.pkl\n"
     ]
    }
   ],
   "source": [
    "# do label transfer \n",
    "pred = scc.predict_label(Xtest_norm, models = \".+training_model.+pkl$\", wk_dir = os.getcwd(), save=True, logger = my_logger)"
   ]
  },
  {
   "cell_type": "code",
   "execution_count": 55,
   "metadata": {},
   "outputs": [
    {
     "data": {
      "text/plain": [
       "['Alveolar macrophages',\n",
       " 'EC venous pulmonary',\n",
       " 'Monocyte-derived Mph',\n",
       " 'Non-classical monocytes',\n",
       " 'AT2']"
      ]
     },
     "execution_count": 55,
     "metadata": {},
     "output_type": "execute_result"
    }
   ],
   "source": [
    "pred[\"svm_training_model_2025-02-07 15:55:10.pkl\"][\"prediction\"][0:5] # glance the predicted labels"
   ]
  },
  {
   "cell_type": "code",
   "execution_count": 56,
   "metadata": {},
   "outputs": [
    {
     "data": {
      "text/plain": [
       "array([[  19,    1,    7, ...,    0,    0,    4],\n",
       "       [   1,  195,    5, ...,    0,    0,    0],\n",
       "       [   4,    7, 1061, ...,    0,    0,    0],\n",
       "       ...,\n",
       "       [   0,    0,    0, ...,    7,    0,    0],\n",
       "       [   0,    0,    0, ...,    0,   11,    0],\n",
       "       [   3,    0,    1, ...,    2,    0,  109]])"
      ]
     },
     "execution_count": 56,
     "metadata": {},
     "output_type": "execute_result"
    }
   ],
   "source": [
    "# compare predicted labels with ground truth labels\n",
    "confusion_matrix(Ytest, pred[\"svm_training_model_2025-02-07 15:55:10.pkl\"][\"prediction\"])"
   ]
  },
  {
   "cell_type": "code",
   "execution_count": 66,
   "metadata": {},
   "outputs": [
    {
     "data": {
      "text/plain": [
       "{'accuracy_score': 0.9083333333333333,\n",
       " 'f1_score': 0.9055509253043628,\n",
       " 'cohen_kappa_score': 0.9001176613948768,\n",
       " 'matthews_corrcoef': 0.9001806199319379}"
      ]
     },
     "execution_count": 66,
     "metadata": {},
     "output_type": "execute_result"
    }
   ],
   "source": [
    "# evaulate the prediction\n",
    "{\n",
    "    \"accuracy_score\": accuracy_score(Ytest, pred[\"svm_training_model_2025-02-07 15:55:10.pkl\"][\"prediction\"]),\n",
    "    \"f1_score\": f1_score(Ytest, pred[\"svm_training_model_2025-02-07 15:55:10.pkl\"][\"prediction\"], average= \"weighted\"),\n",
    "    \"cohen_kappa_score\": cohen_kappa_score(Ytest, pred[\"svm_training_model_2025-02-07 15:55:10.pkl\"][\"prediction\"]),\n",
    "    \"matthews_corrcoef\": matthews_corrcoef(Ytest, pred[\"svm_training_model_2025-02-07 15:55:10.pkl\"][\"prediction\"])\n",
    "}"
   ]
  }
 ],
 "metadata": {
  "kernelspec": {
   "display_name": "SuperSCC",
   "language": "python",
   "name": "python3"
  },
  "language_info": {
   "codemirror_mode": {
    "name": "ipython",
    "version": 3
   },
   "file_extension": ".py",
   "mimetype": "text/x-python",
   "name": "python",
   "nbconvert_exporter": "python",
   "pygments_lexer": "ipython3",
   "version": "3.11.7"
  }
 },
 "nbformat": 4,
 "nbformat_minor": 2
}
