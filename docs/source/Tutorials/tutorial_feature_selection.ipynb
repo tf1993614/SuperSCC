{
 "cells": [
  {
   "cell_type": "markdown",
   "metadata": {},
   "source": [
    "# Feature selection"
   ]
  },
  {
   "cell_type": "markdown",
   "metadata": {},
   "source": [
    "Here, we show how to use SuperSCC to find highly variable genes for the overall dataset or markers of each cluster/cell type for scRNAseq data."
   ]
  },
  {
   "cell_type": "code",
   "execution_count": 24,
   "metadata": {},
   "outputs": [],
   "source": [
    "import SuperSCC as scc\n",
    "import pandas as pd\n",
    "import scanpy as sc\n",
    "import numpy as np"
   ]
  },
  {
   "cell_type": "code",
   "execution_count": 6,
   "metadata": {},
   "outputs": [],
   "source": [
    "data = pd.read_csv('/mnt/disk5/zhongmin/superscc/师兄整理的肺数据/未去批次效应couns数据/没有去除批次效应_Banovich_Kropski_2020数据.csv', index_col=0)\n",
    "cell_type = pd.read_csv('/home/fengtang/jupyter_notebooks/working_script/evulate_clustering/cell_type_info/finest/Banovich_Kropski_2020_finest_celltype.csv', index_col = 0)"
   ]
  },
  {
   "cell_type": "code",
   "execution_count": null,
   "metadata": {},
   "outputs": [],
   "source": [
    "adata = sc.AnnData(data.select_dtypes(\"number\"))\n",
    "sc.pp.normalize_total(adata, target_sum = 1e4)\n",
    "sc.pp.log1p(adata)\n",
    "\n",
    "data_norm = pd.DataFrame(adata.X)\n",
    "data_norm.columns = adata.var_names\n",
    "data_norm.index = adata.obs_names"
   ]
  },
  {
   "cell_type": "markdown",
   "metadata": {},
   "source": [
    "Since SuperSCC' feature selection is an supervised process, it neeeds clustering or cell type labels. So we need to do add this information into the normalized counts matrix:"
   ]
  },
  {
   "cell_type": "code",
   "execution_count": null,
   "metadata": {},
   "outputs": [],
   "source": [
    "data_norm.loc[:, \"cell_type\"] = cell_type.cell_type.values"
   ]
  },
  {
   "cell_type": "code",
   "execution_count": null,
   "metadata": {},
   "outputs": [],
   "source": [
    "# find highly variable genes for the overall dataset\n",
    "\n",
    "my_logger = scc.log_file(\"logger\", \"a\") # create a logging object\n",
    "\n",
    "hvgs = scc.fing_signature_genes(data_norm.copy(), \n",
    "                                label_column = \"cell_type\", \n",
    "                                model = \"svm\",  \n",
    "                                normalization_method = \"Min-Max\", \n",
    "                                save = True, \n",
    "                                logger = my_logger,\n",
    "                                variance_threshold = \"mean\",\n",
    "                                n_features_to_select = 0.15,\n",
    "                                model = \"svm\",\n",
    "                                mutual_info = False,\n",
    "                                F_test = True,\n",
    "                                normalization_method = \"Min-Max\"\n",
    "                                )\n",
    "\n",
    "# alternatively\n",
    "# hvgs = scc.feature_selection(data_norm.copy(), \n",
    "#                              label_column = \"cell_type\", \n",
    "#                              model = \"svm\",  \n",
    "#                              normalization_method = \"Min-Max\", \n",
    "#                              save = True, \n",
    "#                              logger = my_logger)"
   ]
  },
  {
   "cell_type": "code",
   "execution_count": 13,
   "metadata": {},
   "outputs": [
    {
     "data": {
      "text/plain": [
       "dict_keys(['retained_features_ranking_by_variance', 'retained_features_ranking_by_correlation', 'retained_features_ranking_by_embedding', 'retained_features_ranking_by_wrapping', 'final_feature_selection_by_ensemble', 'model_accuracy', 'params_used_for_feature_selection', 'retained_features_by_filtering', 'retained_features_by_embedding', 'retained_features_by_wrapping', 'final_feature_selection_by_intersection'])"
      ]
     },
     "execution_count": 13,
     "metadata": {},
     "output_type": "execute_result"
    }
   ],
   "source": [
    "hvgs.keys()"
   ]
  },
  {
   "cell_type": "markdown",
   "metadata": {},
   "source": [
    "The output includes `retained_features_ranking_by_variance` containing the feature rankings ordered by variance, `retained_features_ranking_by_correlation` containing the the feature rankings ordered by correlation-test p value, `retained_features_ranking_by_embedding` containing the feature rankings ordered by\n",
    "induction-model-derived feature importances, `retained_features_ranking_by_wrapping` containing the feature rankings ordered by RFE-induction-model-derived feature importances, `retained_features_by_filtering` containing the feature subset from variance and correlation filter, `retained_features_by_embedding` containing the feature subset from induction-model, `retained_features_by_wrapping` containing the feature subset from RFE-induction-model, `model_accuracy` containing the kinds of accuracy scores for the training model, `params_used_for_feature_selection` containing the settings of running feature_selection function\n",
    "and `final_feature_selection_by_intersection` and containing the ideal feature subset from aggregating different feature rankings or feature subsets. "
   ]
  },
  {
   "cell_type": "code",
   "execution_count": null,
   "metadata": {},
   "outputs": [],
   "source": [
    "# find markers of each cluster/cell type\n",
    "markers = scc.find_markers_ovr(data_norm.copy(), \n",
    "                               label_column = \"cell_type\", \n",
    "                               model = \"svm\",  \n",
    "                               normalization_method = \"Min-Max\", \n",
    "                               save = True, \n",
    "                               logger = my_logger,\n",
    "                               variance_threshold = \"mean\",\n",
    "                               n_features_to_select = 0.15,\n",
    "                               model = \"svm\",\n",
    "                               mutual_info = False,\n",
    "                               F_test = True,\n",
    "                               normalization_method = \"Min-Max\"\n",
    "                               )"
   ]
  },
  {
   "cell_type": "code",
   "execution_count": 20,
   "metadata": {},
   "outputs": [
    {
     "data": {
      "text/plain": [
       "(dict_keys(['3', '0', '4', '1', '2', '5']),\n",
       " dict_keys(['features', 'sub_high_expression_genes']))"
      ]
     },
     "execution_count": 20,
     "metadata": {},
     "output_type": "execute_result"
    }
   ],
   "source": [
    "makrers.keys(), makrers[\"0\"].keys()"
   ]
  },
  {
   "cell_type": "markdown",
   "metadata": {},
   "source": [
    "For each cluster/cell type, besides the output mentioned above stored in the *features* key, it also includes the feature expression intensity and expression ratio info stored in *sub_high_expression_genes* key."
   ]
  },
  {
   "cell_type": "code",
   "execution_count": 19,
   "metadata": {},
   "outputs": [
    {
     "data": {
      "text/html": [
       "<div>\n",
       "<style scoped>\n",
       "    .dataframe tbody tr th:only-of-type {\n",
       "        vertical-align: middle;\n",
       "    }\n",
       "\n",
       "    .dataframe tbody tr th {\n",
       "        vertical-align: top;\n",
       "    }\n",
       "\n",
       "    .dataframe thead th {\n",
       "        text-align: right;\n",
       "    }\n",
       "</style>\n",
       "<table border=\"1\" class=\"dataframe\">\n",
       "  <thead>\n",
       "    <tr style=\"text-align: right;\">\n",
       "      <th></th>\n",
       "      <th>feature</th>\n",
       "      <th>expression1</th>\n",
       "      <th>pct1</th>\n",
       "      <th>rank1</th>\n",
       "      <th>expression2</th>\n",
       "      <th>pct2</th>\n",
       "      <th>rank2</th>\n",
       "      <th>score</th>\n",
       "    </tr>\n",
       "  </thead>\n",
       "  <tbody>\n",
       "    <tr>\n",
       "      <th>ENSG00000100246</th>\n",
       "      <td>ENSG00000100246</td>\n",
       "      <td>0.089330</td>\n",
       "      <td>0.100143</td>\n",
       "      <td>1</td>\n",
       "      <td>NaN</td>\n",
       "      <td>NaN</td>\n",
       "      <td>NaN</td>\n",
       "      <td>NaN</td>\n",
       "    </tr>\n",
       "    <tr>\n",
       "      <th>ENSG00000051596</th>\n",
       "      <td>ENSG00000051596</td>\n",
       "      <td>0.090060</td>\n",
       "      <td>0.102182</td>\n",
       "      <td>2</td>\n",
       "      <td>NaN</td>\n",
       "      <td>NaN</td>\n",
       "      <td>NaN</td>\n",
       "      <td>804.086531</td>\n",
       "    </tr>\n",
       "    <tr>\n",
       "      <th>ENSG00000139579</th>\n",
       "      <td>ENSG00000139579</td>\n",
       "      <td>0.090104</td>\n",
       "      <td>0.101774</td>\n",
       "      <td>3</td>\n",
       "      <td>NaN</td>\n",
       "      <td>NaN</td>\n",
       "      <td>NaN</td>\n",
       "      <td>NaN</td>\n",
       "    </tr>\n",
       "    <tr>\n",
       "      <th>ENSG00000006757</th>\n",
       "      <td>ENSG00000006757</td>\n",
       "      <td>0.090352</td>\n",
       "      <td>0.100551</td>\n",
       "      <td>4</td>\n",
       "      <td>NaN</td>\n",
       "      <td>NaN</td>\n",
       "      <td>NaN</td>\n",
       "      <td>NaN</td>\n",
       "    </tr>\n",
       "    <tr>\n",
       "      <th>ENSG00000117505</th>\n",
       "      <td>ENSG00000117505</td>\n",
       "      <td>0.090451</td>\n",
       "      <td>0.101163</td>\n",
       "      <td>5</td>\n",
       "      <td>0.162982</td>\n",
       "      <td>0.140160</td>\n",
       "      <td>1176.0</td>\n",
       "      <td>NaN</td>\n",
       "    </tr>\n",
       "    <tr>\n",
       "      <th>...</th>\n",
       "      <td>...</td>\n",
       "      <td>...</td>\n",
       "      <td>...</td>\n",
       "      <td>...</td>\n",
       "      <td>...</td>\n",
       "      <td>...</td>\n",
       "      <td>...</td>\n",
       "      <td>...</td>\n",
       "    </tr>\n",
       "    <tr>\n",
       "      <th>ENSG00000251562</th>\n",
       "      <td>ENSG00000251562</td>\n",
       "      <td>4.220352</td>\n",
       "      <td>0.969610</td>\n",
       "      <td>4638</td>\n",
       "      <td>4.312087</td>\n",
       "      <td>0.978009</td>\n",
       "      <td>4321.0</td>\n",
       "      <td>1246.790112</td>\n",
       "    </tr>\n",
       "    <tr>\n",
       "      <th>ENSG00000198804</th>\n",
       "      <td>ENSG00000198804</td>\n",
       "      <td>4.278880</td>\n",
       "      <td>0.986131</td>\n",
       "      <td>4639</td>\n",
       "      <td>4.397296</td>\n",
       "      <td>0.986289</td>\n",
       "      <td>4323.0</td>\n",
       "      <td>1110.438579</td>\n",
       "    </tr>\n",
       "    <tr>\n",
       "      <th>ENSG00000198712</th>\n",
       "      <td>ENSG00000198712</td>\n",
       "      <td>4.430985</td>\n",
       "      <td>0.986947</td>\n",
       "      <td>4640</td>\n",
       "      <td>4.689565</td>\n",
       "      <td>0.990395</td>\n",
       "      <td>4326.0</td>\n",
       "      <td>1562.438389</td>\n",
       "    </tr>\n",
       "    <tr>\n",
       "      <th>ENSG00000168878</th>\n",
       "      <td>ENSG00000168878</td>\n",
       "      <td>4.643004</td>\n",
       "      <td>0.944728</td>\n",
       "      <td>4641</td>\n",
       "      <td>0.329463</td>\n",
       "      <td>0.174074</td>\n",
       "      <td>2878.0</td>\n",
       "      <td>1692.315966</td>\n",
       "    </tr>\n",
       "    <tr>\n",
       "      <th>ENSG00000168484</th>\n",
       "      <td>ENSG00000168484</td>\n",
       "      <td>5.248846</td>\n",
       "      <td>0.863553</td>\n",
       "      <td>4642</td>\n",
       "      <td>0.949610</td>\n",
       "      <td>0.454262</td>\n",
       "      <td>3990.0</td>\n",
       "      <td>1672.888264</td>\n",
       "    </tr>\n",
       "  </tbody>\n",
       "</table>\n",
       "<p>4642 rows × 8 columns</p>\n",
       "</div>"
      ],
      "text/plain": [
       "                         feature  expression1      pct1  rank1  expression2  \\\n",
       "ENSG00000100246  ENSG00000100246     0.089330  0.100143      1          NaN   \n",
       "ENSG00000051596  ENSG00000051596     0.090060  0.102182      2          NaN   \n",
       "ENSG00000139579  ENSG00000139579     0.090104  0.101774      3          NaN   \n",
       "ENSG00000006757  ENSG00000006757     0.090352  0.100551      4          NaN   \n",
       "ENSG00000117505  ENSG00000117505     0.090451  0.101163      5     0.162982   \n",
       "...                          ...          ...       ...    ...          ...   \n",
       "ENSG00000251562  ENSG00000251562     4.220352  0.969610   4638     4.312087   \n",
       "ENSG00000198804  ENSG00000198804     4.278880  0.986131   4639     4.397296   \n",
       "ENSG00000198712  ENSG00000198712     4.430985  0.986947   4640     4.689565   \n",
       "ENSG00000168878  ENSG00000168878     4.643004  0.944728   4641     0.329463   \n",
       "ENSG00000168484  ENSG00000168484     5.248846  0.863553   4642     0.949610   \n",
       "\n",
       "                     pct2   rank2        score  \n",
       "ENSG00000100246       NaN     NaN          NaN  \n",
       "ENSG00000051596       NaN     NaN   804.086531  \n",
       "ENSG00000139579       NaN     NaN          NaN  \n",
       "ENSG00000006757       NaN     NaN          NaN  \n",
       "ENSG00000117505  0.140160  1176.0          NaN  \n",
       "...                   ...     ...          ...  \n",
       "ENSG00000251562  0.978009  4321.0  1246.790112  \n",
       "ENSG00000198804  0.986289  4323.0  1110.438579  \n",
       "ENSG00000198712  0.990395  4326.0  1562.438389  \n",
       "ENSG00000168878  0.174074  2878.0  1692.315966  \n",
       "ENSG00000168484  0.454262  3990.0  1672.888264  \n",
       "\n",
       "[4642 rows x 8 columns]"
      ]
     },
     "execution_count": 19,
     "metadata": {},
     "output_type": "execute_result"
    }
   ],
   "source": [
    "makrers[\"0\"][\"sub_high_expression_genes\"][\"0\"]"
   ]
  },
  {
   "cell_type": "markdown",
   "metadata": {},
   "source": [
    "expression1, pct1 and rank1 represent the expression intensity, expression ratio and rank in the interst group, while expression2, pct2 and rank2 represent the expression intensity, expression ratio and rank in other groups except interst group. Such info can be used to remove negative markers (good for distinguishing interst group from other groups but have low expression in the interest group) out of informative features stored in *features* key. You can do:"
   ]
  },
  {
   "cell_type": "code",
   "execution_count": 31,
   "metadata": {},
   "outputs": [
    {
     "name": "stderr",
     "output_type": "stream",
     "text": [
      "/tmp/ipykernel_3943216/2645709130.py:11: SettingWithCopyWarning: \n",
      "A value is trying to be set on a copy of a slice from a DataFrame.\n",
      "Try using .loc[row_indexer,col_indexer] = value instead\n",
      "\n",
      "See the caveats in the documentation: https://pandas.pydata.org/pandas-docs/stable/user_guide/indexing.html#returning-a-view-versus-a-copy\n",
      "  df.loc[:, \"log2_fold_change\"] = np.log2(df.expression1 / df.expression2)\n"
     ]
    },
    {
     "data": {
      "text/html": [
       "<div>\n",
       "<style scoped>\n",
       "    .dataframe tbody tr th:only-of-type {\n",
       "        vertical-align: middle;\n",
       "    }\n",
       "\n",
       "    .dataframe tbody tr th {\n",
       "        vertical-align: top;\n",
       "    }\n",
       "\n",
       "    .dataframe thead th {\n",
       "        text-align: right;\n",
       "    }\n",
       "</style>\n",
       "<table border=\"1\" class=\"dataframe\">\n",
       "  <thead>\n",
       "    <tr style=\"text-align: right;\">\n",
       "      <th></th>\n",
       "      <th>feature</th>\n",
       "      <th>expression1</th>\n",
       "      <th>pct1</th>\n",
       "      <th>rank1</th>\n",
       "      <th>expression2</th>\n",
       "      <th>pct2</th>\n",
       "      <th>rank2</th>\n",
       "      <th>score</th>\n",
       "      <th>log2_fold_change</th>\n",
       "    </tr>\n",
       "  </thead>\n",
       "  <tbody>\n",
       "    <tr>\n",
       "      <th>ENSG00000124107</th>\n",
       "      <td>ENSG00000124107</td>\n",
       "      <td>4.134322</td>\n",
       "      <td>0.908016</td>\n",
       "      <td>4634</td>\n",
       "      <td>0.512570</td>\n",
       "      <td>0.210174</td>\n",
       "      <td>3497.0</td>\n",
       "      <td>1692.613278</td>\n",
       "      <td>3.011830</td>\n",
       "    </tr>\n",
       "    <tr>\n",
       "      <th>ENSG00000168878</th>\n",
       "      <td>ENSG00000168878</td>\n",
       "      <td>4.643004</td>\n",
       "      <td>0.944728</td>\n",
       "      <td>4641</td>\n",
       "      <td>0.329463</td>\n",
       "      <td>0.174074</td>\n",
       "      <td>2878.0</td>\n",
       "      <td>1692.315966</td>\n",
       "      <td>3.816870</td>\n",
       "    </tr>\n",
       "    <tr>\n",
       "      <th>ENSG00000161055</th>\n",
       "      <td>ENSG00000161055</td>\n",
       "      <td>1.940696</td>\n",
       "      <td>0.587803</td>\n",
       "      <td>4514</td>\n",
       "      <td>0.458728</td>\n",
       "      <td>0.228191</td>\n",
       "      <td>3355.0</td>\n",
       "      <td>1691.958975</td>\n",
       "      <td>2.080864</td>\n",
       "    </tr>\n",
       "    <tr>\n",
       "      <th>ENSG00000131400</th>\n",
       "      <td>ENSG00000131400</td>\n",
       "      <td>3.110635</td>\n",
       "      <td>0.843769</td>\n",
       "      <td>4602</td>\n",
       "      <td>NaN</td>\n",
       "      <td>NaN</td>\n",
       "      <td>NaN</td>\n",
       "      <td>1691.304883</td>\n",
       "      <td>NaN</td>\n",
       "    </tr>\n",
       "    <tr>\n",
       "      <th>ENSG00000166347</th>\n",
       "      <td>ENSG00000166347</td>\n",
       "      <td>2.939046</td>\n",
       "      <td>0.944116</td>\n",
       "      <td>4586</td>\n",
       "      <td>0.717823</td>\n",
       "      <td>0.402265</td>\n",
       "      <td>3822.0</td>\n",
       "      <td>1690.470148</td>\n",
       "      <td>2.033649</td>\n",
       "    </tr>\n",
       "  </tbody>\n",
       "</table>\n",
       "</div>"
      ],
      "text/plain": [
       "                         feature  expression1      pct1  rank1  expression2  \\\n",
       "ENSG00000124107  ENSG00000124107     4.134322  0.908016   4634     0.512570   \n",
       "ENSG00000168878  ENSG00000168878     4.643004  0.944728   4641     0.329463   \n",
       "ENSG00000161055  ENSG00000161055     1.940696  0.587803   4514     0.458728   \n",
       "ENSG00000131400  ENSG00000131400     3.110635  0.843769   4602          NaN   \n",
       "ENSG00000166347  ENSG00000166347     2.939046  0.944116   4586     0.717823   \n",
       "\n",
       "                     pct2   rank2        score  log2_fold_change  \n",
       "ENSG00000124107  0.210174  3497.0  1692.613278          3.011830  \n",
       "ENSG00000168878  0.174074  2878.0  1692.315966          3.816870  \n",
       "ENSG00000161055  0.228191  3355.0  1691.958975          2.080864  \n",
       "ENSG00000131400       NaN     NaN  1691.304883               NaN  \n",
       "ENSG00000166347  0.402265  3822.0  1690.470148          2.033649  "
      ]
     },
     "execution_count": 31,
     "metadata": {},
     "output_type": "execute_result"
    }
   ],
   "source": [
    "# get the expression intensity and ratio info\n",
    "df = markers[\"0\"][\"sub_high_expression_genes\"][\"0\"]\n",
    "\n",
    "# use feature subset from aggregating feature rankings\n",
    "important_features = [i[0] for i in markers[\"0\"][\"features\"][\"final_feature_selection_by_ensemble\"]]\n",
    "\n",
    "# remove little informative features \n",
    "df = df.loc[df.feature.isin(important_features)]\n",
    "\n",
    "# calculate log2 fold change\n",
    "df.loc[:, \"log2_fold_change\"] = np.log2(df.expression1 / df.expression2)\n",
    "\n",
    "# only keep features with satified expression intensity and ratio in the interest group\n",
    "df = df.loc[((df.expression1 > 1) & (1 - (df.pct2/df.pct1) > 0.5)) | (np.isnan(df.pct2)) ].sort_values(\"score\", ascending = False)\n",
    "df.head(5)"
   ]
  }
 ],
 "metadata": {
  "kernelspec": {
   "display_name": "SuperSCC",
   "language": "python",
   "name": "python3"
  },
  "language_info": {
   "codemirror_mode": {
    "name": "ipython",
    "version": 3
   },
   "file_extension": ".py",
   "mimetype": "text/x-python",
   "name": "python",
   "nbconvert_exporter": "python",
   "pygments_lexer": "ipython3",
   "version": "3.11.7"
  }
 },
 "nbformat": 4,
 "nbformat_minor": 2
}
