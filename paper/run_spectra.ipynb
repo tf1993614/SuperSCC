{
 "cells": [
  {
   "cell_type": "code",
   "execution_count": null,
   "id": "598185d8",
   "metadata": {},
   "outputs": [
    {
     "name": "stderr",
     "output_type": "stream",
     "text": [
      "/home/zhongm/miniconda3/envs/superscc/lib/python3.7/site-packages/tqdm/auto.py:21: TqdmWarning: IProgress not found. Please update jupyter and ipywidgets. See https://ipywidgets.readthedocs.io/en/stable/user_install.html\n",
      "  from .autonotebook import tqdm as notebook_tqdm\n"
     ]
    }
   ],
   "source": [
    "from os.path import basename\n",
    "import scanpy as sc\n",
    "import pandas as pd\n",
    "import Spectra\n",
    "import numpy as np\n",
    "import json \n",
    "import scanpy as sc\n",
    "from collections import OrderedDict\n",
    "import scipy \n",
    "import pandas as pd\n",
    "import matplotlib.pyplot as plt\n",
    "\n",
    "#spectra imports \n",
    "import Spectra as spc\n",
    "from Spectra import Spectra_util as spc_tl\n",
    "from Spectra import K_est as kst\n",
    "from Spectra import default_gene_sets\n",
    "\n",
    "%run /home/zhongm/bao/shixiong/superscc/SuperSCC-version3.1.4.ipynb"
   ]
  },
  {
   "cell_type": "code",
   "execution_count": null,
   "id": "2884dc15",
   "metadata": {},
   "outputs": [],
   "source": [
    "# load data\n",
    "file_path = \"/mnt/disk1/zhongmin/superscc/胚胎数据/D023/未去批次效应数据/未去批次效应_D023乳腺数据2万.csv\" # 改不同文件名以便读取不同文件\n",
    "data = pd.read_csv(file_path, index_col=0)\n",
    "data = data.select_dtypes(\"number\")\n",
    "data\n",
    "\n",
    "metadata = pd.read_csv(\"/mnt/disk1/zhongmin/superscc/胚胎数据/D023/未去批次效应数据/D023乳腺数据_metadata2万.csv\", index_col=0)\n",
    "metadata = metadata.reindex(data.index)\n",
    "metadata"
   ]
  },
  {
   "cell_type": "code",
   "execution_count": null,
   "id": "33e9dfbc",
   "metadata": {},
   "outputs": [
    {
     "name": "stderr",
     "output_type": "stream",
     "text": [
      "/home/zhongm/miniconda3/envs/superscc/lib/python3.7/site-packages/ipykernel_launcher.py:2: FutureWarning: X.dtype being converted to np.float32 from float64. In the next version of anndata (0.9) conversion will not be automatic. Pass dtype explicitly to avoid this warning. Pass `AnnData(X, dtype=X.dtype, ...)` to get the future behavour.\n",
      "  \n"
     ]
    }
   ],
   "source": [
    "# do normalization\n",
    "adata = sc.AnnData(data)\n",
    "adata.obs = metadata\n",
    "sc.pp.normalize_total(adata, target_sum=1e4)\n",
    "sc.pp.log1p(adata)\n",
    "\n",
    "sc.pp.highly_variable_genes(adata, n_top_genes = 3000)"
   ]
  },
  {
   "cell_type": "code",
   "execution_count": null,
   "id": "089cf684",
   "metadata": {},
   "outputs": [],
   "source": [
    "# convert ID to symbols\n",
    "id2symbol = pd.read_csv(\"/home/zhongm/daima/jupyter/human_id2symbol.csv\")\n",
    "print(id2symbol.columns)\n",
    "adata = adata_id2symbol(adata,id2symbol)\n",
    "adata.var_names_make_unique()"
   ]
  },
  {
   "cell_type": "code",
   "execution_count": null,
   "id": "d420a28a",
   "metadata": {},
   "outputs": [],
   "source": [
    "# create a empty marker dict for ech cell type\n",
    "adata_cell_types = adata.obs[\"broad_celltype\"].unique().tolist()\n",
    "annotations = {\n",
    "    cell_type: {\n",
    "        \"marker\": [] \n",
    "    } for cell_type in adata_cell_types\n",
    "}\n",
    "annotations[\"global\"] = {\n",
    "    \"global\": [] \n",
    "}"
   ]
  },
  {
   "cell_type": "code",
   "execution_count": null,
   "id": "3849d4f4",
   "metadata": {},
   "outputs": [
    {
     "name": "stdout",
     "output_type": "stream",
     "text": [
      "Cell type labels in gene set annotation dictionary and AnnData object are identical\n",
      "Your gene set annotation dictionary is now correctly formatted.\n"
     ]
    }
   ],
   "source": [
    "# insert Spectra-collected markers \n",
    "annotations1 = Spectra.default_gene_sets.load()\n",
    "annotations[\"global\"] = annotations1[\"global\"]  # 直接赋值替换"
   ]
  },
  {
   "cell_type": "code",
   "execution_count": null,
   "id": "d6e34a5c",
   "metadata": {},
   "outputs": [
    {
     "name": "stdout",
     "output_type": "stream",
     "text": [
      "Cell type labels in gene set annotation dictionary and AnnData object are identical\n",
      "Your gene set annotation dictionary is now correctly formatted.\n"
     ]
    },
    {
     "name": "stderr",
     "output_type": "stream",
     "text": [
      "100%|██████████| 10000/10000 [6:43:14<00:00,  2.42s/it] \n"
     ]
    }
   ],
   "source": [
    "#run the Spectra model with default values\n",
    "model = Spectra.est_spectra(\n",
    "    adata=adata, \n",
    "    gene_set_dictionary=annotations, \n",
    "    use_highly_variable=True,\n",
    "    cell_type_key=\"broad_celltype\", \n",
    "    use_weights=True,\n",
    "    lam=0.1, #varies depending on data and gene sets, try between 0.5 and 0.001\n",
    "    delta=0.001, \n",
    "    kappa=None,\n",
    "    rho=0.001, \n",
    "    use_cell_types=True,\n",
    "    n_top_vals=50,\n",
    "    label_factors=True, \n",
    "    overlap_threshold=0.2,\n",
    "    clean_gs = True, \n",
    "    min_gs_num = 3,\n",
    "    num_epochs=10000\n",
    ")"
   ]
  },
  {
   "cell_type": "code",
   "execution_count": 19,
   "id": "8ecebe3b",
   "metadata": {},
   "outputs": [],
   "source": [
    "adata.write_h5ad(\"/mnt/disk2/zhongm/superscc/spectra结果/D023/2025-4-28/task1/D023_细胞类型.h5ad\")"
   ]
  }
 ],
 "metadata": {
  "kernelspec": {
   "display_name": "superscc",
   "language": "python",
   "name": "python3"
  },
  "language_info": {
   "codemirror_mode": {
    "name": "ipython",
    "version": 3
   },
   "file_extension": ".py",
   "mimetype": "text/x-python",
   "name": "python",
   "nbconvert_exporter": "python",
   "pygments_lexer": "ipython3",
   "version": "3.7.16"
  }
 },
 "nbformat": 4,
 "nbformat_minor": 5
}
