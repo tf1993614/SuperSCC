{
 "cells": [
  {
   "cell_type": "code",
   "execution_count": 1,
   "id": "7a539486",
   "metadata": {},
   "outputs": [],
   "source": [
    "import pandas as pd\n",
    "import scanpy as sc\n",
    "import numpy as np\n",
    "import scvi\n",
    "import dill\n",
    "import anndata as ad\n",
    "\n",
    "import os\n",
    "from os import walk\n",
    "from os.path import basename\n",
    "import re"
   ]
  },
  {
   "cell_type": "code",
   "execution_count": 2,
   "id": "a86e41f5",
   "metadata": {},
   "outputs": [],
   "source": [
    "os.chdir(\"/home/fengtang/jupyter_notebooks/working_script/label_transfer/scANVI\")"
   ]
  },
  {
   "cell_type": "code",
   "execution_count": null,
   "id": "e9fbf89b",
   "metadata": {},
   "outputs": [],
   "source": [
    "def run_scANVI(ref_data, test_data, filename):\n",
    "\n",
    "    ref_exp_mat = pd.read_csv(ref_data, index_col = 0)\n",
    "    ref_max_column = ref_exp_mat.shape[1]\n",
    "    ref_adata = sc.AnnData(ref_exp_mat.iloc[:, ref_exp_mat.columns != \"cell_type\"])\n",
    " \n",
    "    test_exp_mat = pd.read_csv(test_data, index_col = 0)\n",
    "    test_exp_mat.index = [f\"cell_{i}\" for i in range(test_exp_mat.shape[0])]\n",
    "    test_adata = sc.AnnData(test_exp_mat)\n",
    "\n",
    " \n",
    "    \n",
    "    adata = ad.concat([ref_adata, test_adata], join = \"inner\")\n",
    "    \n",
    "    adata.layers[\"counts\"] = adata.X.copy()\n",
    "    adata.obs[\"ref_or_not\"] = [\"ref\" if not re.search(\"^cell_\\\\d+\", i) else \"test\" for i in adata.obs.index]\n",
    "    cell_type = ref_exp_mat.cell_type.tolist()\n",
    "    cell_type.extend([\"Unknown\" for i in range(test_adata.shape[0])])\n",
    "    adata.obs[\"cell_type\"] = cell_type\n",
    "    \n",
    "\n",
    "    sc.pp.normalize_total(adata, target_sum=1e4)\n",
    "    sc.pp.log1p(adata)\n",
    "\n",
    "\n",
    "    adata.raw = adata\n",
    "    sc.pp.highly_variable_genes(\n",
    "                   adata,\n",
    "                   flavor=\"seurat_v3\",\n",
    "                   n_top_genes=2000,\n",
    "                   layer=\"counts\",\n",
    "                   batch_key=\"ref_or_not\",\n",
    "                   subset=True,\n",
    "     )\n",
    "\n",
    "    \n",
    "    scvi.model.SCVI.setup_anndata(adata, layer=\"counts\")\n",
    "    scvi_model = scvi.model.SCVI(adata)\n",
    "    scvi_model.train()\n",
    "\n",
    "    SCVI_LATENT_KEY = \"X_scVI\"\n",
    "    adata.obsm[SCVI_LATENT_KEY] = scvi_model.get_latent_representation()\n",
    "\n",
    "    SCANVI_CELLTYPE_KEY = \"celltype_scanvi\"\n",
    "\n",
    "    adata.obs[SCANVI_CELLTYPE_KEY] = adata.obs[\"cell_type\"].tolist()\n",
    "\n",
    "    scanvi_model = scvi.model.SCANVI.from_scvi_model(\n",
    "                    scvi_model,\n",
    "                    adata=adata,\n",
    "                    unlabeled_category=\"Unknown\",\n",
    "                    labels_key=SCANVI_CELLTYPE_KEY,\n",
    "                    )\n",
    "    scanvi_model.train()\n",
    "\n",
    "    SCANVI_PREDICTION_KEY = \"C_scANVI\"\n",
    "    adata.obs[SCANVI_PREDICTION_KEY] = scanvi_model.predict(adata)\n",
    "\n",
    "    with open(f\"{filename}_scANVI_prediction_on_multi_datasets.pkl\", \"wb\") as file:\n",
    "        dill.dump(adata, file)\n",
    "\n",
    "    print(f\"finish prediction on {filename}\")"
   ]
  },
  {
   "cell_type": "code",
   "execution_count": null,
   "id": "53ab79d5",
   "metadata": {},
   "outputs": [],
   "source": [
    "# run scANVI\n",
    "file = pd.read_csv(\"/mnt/disk5/zhongmin/superscc/结果位置/结果位置_3.csv\", encoding = \"GBK\")\n",
    "file = file.loc[file.数据集.isin([\"Banovich_Kropski_2020\", \"Barbry_Leroy_2020\", \"Krasnow_2020\", \"Lafyatis_Rojas_2019\", \"Nawijn_2021\", \"Teichmann_Meyer_2019\"]), :]\n",
    "file = file.iloc[:, [0, 10]]\n",
    "file[\"ref_data\"] = [\"/home/fengtang/jupyter_notebooks/working_script/label_transfer/SuperSCC/train_datasets_from_different_study.csv\" for i in range(6)]\n",
    "file.columns = [\"filename\", \"test_data\", \"ref_data\"]\n",
    "file = file[[\"ref_data\", \"test_data\", \"filename\"]]\n",
    "\n",
    "for idx, i in file.iterrows():\n",
    "    run_scANVI(i[0], i[1], i[2])"
   ]
  }
 ],
 "metadata": {
  "kernelspec": {
   "display_name": "SuperSCC",
   "language": "python",
   "name": "python3"
  },
  "language_info": {
   "codemirror_mode": {
    "name": "ipython",
    "version": 3
   },
   "file_extension": ".py",
   "mimetype": "text/x-python",
   "name": "python",
   "nbconvert_exporter": "python",
   "pygments_lexer": "ipython3",
   "version": "3.11.7"
  }
 },
 "nbformat": 4,
 "nbformat_minor": 5
}
