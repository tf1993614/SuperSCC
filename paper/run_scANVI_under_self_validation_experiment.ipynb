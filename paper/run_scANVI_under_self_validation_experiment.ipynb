{
 "cells": [
  {
   "cell_type": "code",
   "execution_count": null,
   "id": "7a539486",
   "metadata": {},
   "outputs": [],
   "source": [
    "import pandas as pd\n",
    "import scanpy as sc\n",
    "import numpy as np\n",
    "import scvi\n",
    "import dill\n",
    "\n",
    "import os\n",
    "from os import walk\n",
    "from os.path import basename\n",
    "import re"
   ]
  },
  {
   "cell_type": "code",
   "execution_count": 3,
   "id": "a86e41f5",
   "metadata": {},
   "outputs": [],
   "source": [
    "os.chdir(\"/home/fengtang/jupyter_notebooks/working_script/label_transfer/scANVI\")"
   ]
  },
  {
   "cell_type": "code",
   "execution_count": null,
   "id": "e9fbf89b",
   "metadata": {},
   "outputs": [],
   "source": [
    "def run_scANVI(count, ref_data, test_data, filename):\n",
    "\n",
    "    exp_mat = pd.read_csv(count, index_col = 0)\n",
    "    ref_cell_index = pd.read_csv(ref_data, index_col = 0)\n",
    "    test_cell_index = pd.read_csv(test_data, index_col = 0)\n",
    "\n",
    "\n",
    "    adata = sc.AnnData(exp_mat)\n",
    "    adata.layers[\"counts\"] = adata.X.copy()\n",
    "    adata.obs[\"ref_or_not\"] = [\"ref\" if i in ref_cell_index.index.tolist() else \"test\" for i in exp_mat.index]\n",
    "    adata.obs[\"cell_type\"] = [ ref_cell_index[\"cell_type\"].tolist()[ref_cell_index.index.tolist().index(i)] if i in ref_cell_index.index.tolist() else \"Unknown\" for i in exp_mat.index]\n",
    "    \n",
    "\n",
    "    sc.pp.normalize_total(adata, target_sum=1e4)\n",
    "    sc.pp.log1p(adata)\n",
    "\n",
    "\n",
    "\n",
    "    adata.raw = adata\n",
    "    sc.pp.highly_variable_genes(\n",
    "                   adata,\n",
    "                   flavor=\"seurat_v3\",\n",
    "                   n_top_genes=2000,\n",
    "                   layer=\"counts\",\n",
    "                   batch_key=\"ref_or_not\",\n",
    "                   subset=True,\n",
    "     )\n",
    "    \n",
    "\n",
    "    scvi.model.SCVI.setup_anndata(adata, layer=\"counts\")\n",
    "    scvi_model = scvi.model.SCVI(adata)\n",
    "    scvi_model.train()\n",
    "\n",
    "    SCVI_LATENT_KEY = \"X_scVI\"\n",
    "    adata.obsm[SCVI_LATENT_KEY] = scvi_model.get_latent_representation()\n",
    "\n",
    "    SCANVI_CELLTYPE_KEY = \"celltype_scanvi\"\n",
    "\n",
    "    adata.obs[SCANVI_CELLTYPE_KEY] = adata.obs[\"cell_type\"].tolist()\n",
    "\n",
    "    scanvi_model = scvi.model.SCANVI.from_scvi_model(\n",
    "                    scvi_model,\n",
    "                    adata=adata,\n",
    "                    unlabeled_category=\"Unknown\",\n",
    "                    labels_key=SCANVI_CELLTYPE_KEY,\n",
    "                    )\n",
    "    scanvi_model.train()\n",
    "\n",
    "    SCANVI_PREDICTION_KEY = \"C_scANVI\"\n",
    "    adata.obs[SCANVI_PREDICTION_KEY] = scanvi_model.predict(adata)\n",
    "\n",
    "    with open(f\"{filename}_scANVI_prediction.pkl\", \"wb\") as file:\n",
    "        dill.dump(adata, file)\n",
    "\n",
    "    print(f\"finish prediction on {filename}\")"
   ]
  },
  {
   "cell_type": "code",
   "execution_count": null,
   "id": "53ab79d5",
   "metadata": {},
   "outputs": [],
   "source": [
    "# run scANVI\n",
    "file = pd.read_csv(\"/home/fengtang/jupyter_notebooks/working_script/label_transfer/SingleCellNet/label_transfer_evulate_data_loc.csv\", index_col=0)\n",
    "file[\"test_data\"] = [re.sub(\"代码/\", \"代码/SuperSCC/finest_cell_label_res/\",i) for i in file[\"test_data\"].tolist()]\n",
    "file[\"ref_data\"] = [re.sub(\"代码/\", \"代码/SuperSCC/finest_cell_label_res/\", i) for i in file[\"ref_data\"].tolist()]\n",
    "\n",
    "for idx, i in file.iterrows():\n",
    "    run_scANVI(i[0], i[1], i[2], i[3])"
   ]
  },
  {
   "cell_type": "code",
   "execution_count": null,
   "id": "b7d1b6f8",
   "metadata": {},
   "outputs": [],
   "source": [
    "# tidy up the prediction res\n",
    "files = list()\n",
    "for root, dir, file, in walk(os.getcwd()):\n",
    "    for i in file:\n",
    "        if re.search(\".+pkl$\", i):\n",
    "            files.append(i)\n",
    "            \n",
    "for i in files:\n",
    "    data = pd.read_pickle(i)\n",
    "    csv = data.obs\n",
    "    filename = re.sub(\"_scANVI_prediction.pkl\", \"\",i)\n",
    "    csv.to_csv(f\"{filename}.csv\")"
   ]
  }
 ],
 "metadata": {
  "kernelspec": {
   "display_name": "scANVI",
   "language": "python",
   "name": "python3"
  },
  "language_info": {
   "codemirror_mode": {
    "name": "ipython",
    "version": 3
   },
   "file_extension": ".py",
   "mimetype": "text/x-python",
   "name": "python",
   "nbconvert_exporter": "python",
   "pygments_lexer": "ipython3",
   "version": "3.11.7"
  }
 },
 "nbformat": 4,
 "nbformat_minor": 5
}
